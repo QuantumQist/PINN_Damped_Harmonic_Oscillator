{
  "nbformat": 4,
  "nbformat_minor": 0,
  "metadata": {
    "colab": {
      "provenance": [],
      "authorship_tag": "ABX9TyOa2n1C0Rux/4f2ddAaPRsq",
      "include_colab_link": true
    },
    "kernelspec": {
      "name": "python3",
      "display_name": "Python 3"
    },
    "language_info": {
      "name": "python"
    }
  },
  "cells": [
    {
      "cell_type": "markdown",
      "metadata": {
        "id": "view-in-github",
        "colab_type": "text"
      },
      "source": [
        "<a href=\"https://colab.research.google.com/github/QuantumQist/PINN_Damped_Harmonic_Oscillator/blob/main/PINN_YT.ipynb\" target=\"_parent\"><img src=\"https://colab.research.google.com/assets/colab-badge.svg\" alt=\"Open In Colab\"/></a>"
      ]
    },
    {
      "cell_type": "markdown",
      "source": [
        "# 0. Importy"
      ],
      "metadata": {
        "id": "eh8DCFjM5APl"
      }
    },
    {
      "cell_type": "code",
      "source": [
        "import numpy as np\n",
        "import matplotlib.pyplot as plt\n",
        "import torch\n",
        "from torch import nn\n",
        "from tqdm.auto import tqdm"
      ],
      "metadata": {
        "id": "VJZ49eXH5EnP"
      },
      "execution_count": 1,
      "outputs": []
    },
    {
      "cell_type": "markdown",
      "source": [
        "# 1. Liczenie pochodnych"
      ],
      "metadata": {
        "id": "-XcWUvtH5FpU"
      }
    },
    {
      "cell_type": "code",
      "source": [
        "x = torch.linspace(0, 2*torch.pi, 1000, requires_grad=True)\n",
        "\n",
        "y = torch.sin(x)\n",
        "\n",
        "dydx = torch.autograd.grad(y, x, grad_outputs=torch.ones_like(y))[0]\n",
        "\n",
        "plt.plot(x.detach(), y.detach(), label=\"sin(x)\")\n",
        "plt.plot(x.detach(), dydx.detach(), label=\"pochodna\")\n",
        "plt.xlabel(\"x\")\n",
        "plt.ylabel(\"y\")\n",
        "plt.legend()\n",
        "plt.show()"
      ],
      "metadata": {
        "id": "wIGXkdyP5Isd"
      },
      "execution_count": null,
      "outputs": []
    },
    {
      "cell_type": "markdown",
      "source": [
        "# 2. Sieć neuronowa."
      ],
      "metadata": {
        "id": "SejIjUJm5JP4"
      }
    },
    {
      "cell_type": "code",
      "source": [
        "pinn = nn.Sequential(\n",
        "    nn.Linear(1, 32),\n",
        "    nn.Tanh(),\n",
        "    nn.Linear(32,32),\n",
        "    nn.Tanh(),\n",
        "    nn.Linear(32,1)\n",
        ")"
      ],
      "metadata": {
        "id": "X4nRi-sA5PEQ"
      },
      "execution_count": 73,
      "outputs": []
    },
    {
      "cell_type": "markdown",
      "source": [
        "# 3. Parametry układu fizycznego"
      ],
      "metadata": {
        "id": "7eoAlmNB5REp"
      }
    },
    {
      "cell_type": "code",
      "source": [
        "# Paramtery fizyczne układu\n",
        "GAMMA = 0.2\n",
        "W_0 = 2\n",
        "T_MAX = 10\n",
        "\n",
        "# Warunki początkowe\n",
        "x0_tensor = torch.tensor([1.0]).view(-1,1)\n",
        "v0_tensor = torch.tensor([0.0]).view(-1,1)\n",
        "t0_tensor = torch.tensor(0.0, requires_grad=True).view(-1,1)\n",
        "\n",
        "# Punkty do wyznaczania straty fizycznej\n",
        "t_tensor = torch.linspace(0, T_MAX, 100, requires_grad=True).view(-1,1)"
      ],
      "metadata": {
        "id": "KCifMIyl5lP6"
      },
      "execution_count": 74,
      "outputs": []
    },
    {
      "cell_type": "markdown",
      "source": [
        "# 4. Ewaluacja sieci przed treningiem."
      ],
      "metadata": {
        "id": "-c5CktCZ5mYz"
      }
    },
    {
      "cell_type": "code",
      "source": [
        "def ground_truth(t_array, gamma, w_0):\n",
        "    \"\"\"\n",
        "    Zwraca poprawny wynik.\n",
        "    \"\"\"\n",
        "    assert gamma < w_0, \"gamma>=w_0, niezgodne z reżimem słaych tłumień\"\n",
        "\n",
        "    w = np.sqrt(w_0**2 + gamma**2)\n",
        "    decay = np.exp(-gamma*t_array)\n",
        "    bracket = np.cos(w*t_array) + (gamma / w) * np.sin(w*t_array)\n",
        "\n",
        "    return decay * bracket"
      ],
      "metadata": {
        "id": "MbHsvQOH5we3"
      },
      "execution_count": 75,
      "outputs": []
    },
    {
      "cell_type": "code",
      "source": [
        "def plot_result(model, w_0, gamma, t_max, title=None):\n",
        "    model.eval()\n",
        "    t_tensor = torch.linspace(0, t_max, 1000).view(-1,1)\n",
        "    with torch.inference_mode():\n",
        "        x_tensor = model(t_tensor)\n",
        "\n",
        "    t_tensor = t_tensor.numpy()\n",
        "    x_tensor = x_tensor.numpy()\n",
        "\n",
        "    ground_truth_result = ground_truth(t_tensor, gamma, w_0)\n",
        "\n",
        "    plt.plot(t_tensor, x_tensor, label = \"PINN\")\n",
        "    plt.plot(t_tensor, ground_truth_result, label = \"Poprawny wynik\")\n",
        "    plt.xlabel(\"t\")\n",
        "    plt.ylabel(\"x(t)\")\n",
        "    if title is not None:\n",
        "        plt.title(title)\n",
        "    plt.legend()\n",
        "    plt.show()"
      ],
      "metadata": {
        "id": "S12Hy_GmdHDx"
      },
      "execution_count": 76,
      "outputs": []
    },
    {
      "cell_type": "code",
      "source": [
        "plot_result(pinn, W_0, GAMMA, T_MAX)"
      ],
      "metadata": {
        "id": "KfeNuu1IeK25"
      },
      "execution_count": null,
      "outputs": []
    },
    {
      "cell_type": "markdown",
      "source": [
        "# 5. Pętla treningowa."
      ],
      "metadata": {
        "id": "-laVo9gN5zry"
      }
    },
    {
      "cell_type": "code",
      "source": [
        "# HIPERPARAMETRY\n",
        "NUM_EPOCHS = 15000\n",
        "LEARNING_RATE = 0.01\n",
        "LAMBDA_PHYSICS = 1.\n",
        "LAMBDA_X0 = 10.\n",
        "LAMBDA_V0 = 10."
      ],
      "metadata": {
        "id": "12N9Se7551tk"
      },
      "execution_count": 78,
      "outputs": []
    },
    {
      "cell_type": "code",
      "source": [
        "optimizer = torch.optim.Adam(pinn.parameters(), lr = LEARNING_RATE)\n",
        "\n",
        "physics_loss_history = []\n",
        "boundary_position_loss_history = []\n",
        "boundary_velocity_loss_history = []\n",
        "loss_history = []\n",
        "\n",
        "for epoch in tqdm(range(NUM_EPOCHS)):\n",
        "    pinn.train()\n",
        "\n",
        "    # Strata - położenie początkowe\n",
        "    x0_pred = pinn(t0_tensor)\n",
        "    boundary_position_loss = LAMBDA_X0 * (x0_pred - x0_tensor) ** 2\n",
        "    boundary_position_loss_history.append(boundary_position_loss.item())\n",
        "\n",
        "    # Strata - prędkość początkowa\n",
        "    v0_pred = torch.autograd.grad(x0_pred, t0_tensor, torch.ones_like(x0_pred),\n",
        "                                  create_graph=True)[0]\n",
        "    boundary_velocity_loss = LAMBDA_V0 * v0_pred ** 2\n",
        "    boundary_velocity_loss_history.append(boundary_velocity_loss.item())\n",
        "\n",
        "    # Strata - równanie Newtona\n",
        "    x_pred = pinn(t_tensor)\n",
        "    dx_dt = torch.autograd.grad(x_pred, t_tensor, torch.ones_like(x_pred), create_graph=True)[0]\n",
        "    d2x_dt2 = torch.autograd.grad(dx_dt, t_tensor, torch.ones_like(dx_dt), create_graph = True)[0]\n",
        "    # Sprawdź zgodność z prawami fizyki\n",
        "    residual = d2x_dt2 + 2 * GAMMA * dx_dt + W_0**2 * x_pred\n",
        "    physics_loss = LAMBDA_PHYSICS * torch.mean(residual**2)\n",
        "    physics_loss_history.append(physics_loss.item())\n",
        "\n",
        "    # Pełna strata\n",
        "    loss = boundary_position_loss + boundary_velocity_loss + physics_loss\n",
        "    loss_history.append(loss.item())\n",
        "\n",
        "    # PyTorch\n",
        "    optimizer.zero_grad()\n",
        "    loss.backward()\n",
        "    optimizer.step()\n",
        "\n",
        "    if (epoch+1) % 1000 == 0:\n",
        "        plot_result(pinn, W_0, GAMMA, T_MAX, title = f\"Epoka {epoch+1}\")\n",
        "\n",
        "plt.plot(loss_history)\n",
        "plt.xlabel(\"Epoka\")\n",
        "plt.ylabel(\"Strata całkowita\")\n",
        "plt.yscale(\"log\")\n",
        "plt.show()\n",
        "\n",
        "plt.plot(physics_loss_history, label = \"Strata - fizyka\")\n",
        "plt.plot(boundary_position_loss_history, label = \"Strata - x(0)\")\n",
        "plt.plot(boundary_velocity_loss_history, label = \"Strata - v(0)\")\n",
        "plt.xlabel(\"Epoka\")\n",
        "plt.yscale(\"log\")\n",
        "plt.legend()\n",
        "plt.show()"
      ],
      "metadata": {
        "id": "t0qKydDIe4WB"
      },
      "execution_count": null,
      "outputs": []
    },
    {
      "cell_type": "code",
      "source": [],
      "metadata": {
        "id": "JSnAzXsS565b"
      },
      "execution_count": null,
      "outputs": []
    }
  ]
}